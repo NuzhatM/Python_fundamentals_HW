{
 "cells": [
  {
   "cell_type": "markdown",
   "id": "9d81b369",
   "metadata": {},
   "source": [
    "628. Maximum Product of Three Numbers"
   ]
  },
  {
   "cell_type": "code",
   "execution_count": 1,
   "id": "835bcc52",
   "metadata": {},
   "outputs": [
    {
     "name": "stdout",
     "output_type": "stream",
     "text": [
      "39600\n"
     ]
    }
   ],
   "source": [
    "#for running in jupyter notebook\n",
    "\n",
    "nums = [-100,-98,-1,2,3,4,-88,-99]\n",
    "\n",
    "if len(nums)<=10000 and len(nums)>=3:\n",
    "    nums.sort()\n",
    "    print(max(nums[0]*nums[1]*nums[-1],nums[-1]*nums[-2]*nums[-3]))"
   ]
  },
  {
   "cell_type": "code",
   "execution_count": 12,
   "id": "5a074f26",
   "metadata": {},
   "outputs": [],
   "source": [
    "# for running in leetcode\n",
    "\n",
    "class Solution(object):\n",
    "    def maximumProduct(self, nums):\n",
    "        \"\"\"\n",
    "        :type nums: List[int]\n",
    "        :rtype: int\n",
    "        \"\"\"\n",
    "        if len(nums)<=10000 and len(nums)>=3:\n",
    "            nums.sort()\n",
    "            return(max(nums[0]*nums[1]*nums[-1],nums[-1]*nums[-2]*nums[-3]))"
   ]
  },
  {
   "cell_type": "markdown",
   "id": "4f4056a0",
   "metadata": {},
   "source": [
    "1672. Richest Customer Wealth "
   ]
  },
  {
   "cell_type": "code",
   "execution_count": 2,
   "id": "7dbb0356",
   "metadata": {},
   "outputs": [
    {
     "name": "stdout",
     "output_type": "stream",
     "text": [
      "6\n"
     ]
    }
   ],
   "source": [
    "#for running in jupyter notebook\n",
    "\n",
    "accounts = [[1,2,3],[3,2,1]]\n",
    "z = list()\n",
    "if len(accounts)>=1:\n",
    "    for x in accounts:\n",
    "        if len(x)<=50:\n",
    "            y = sum(x)\n",
    "            z.append(y)\n",
    "print(max(z))"
   ]
  },
  {
   "cell_type": "code",
   "execution_count": 11,
   "id": "5e2aa3b9",
   "metadata": {},
   "outputs": [],
   "source": [
    "# for running in leetcode\n",
    "\n",
    "class Solution(object):\n",
    "    def maximumWealth(self, accounts):\n",
    "        \"\"\"\n",
    "        :type accounts: List[List[int]]\n",
    "        :rtype: int\n",
    "        \"\"\"\n",
    "        z = list()\n",
    "        if len(accounts)>=1:\n",
    "            for x in accounts:\n",
    "                if len(x)<=50:\n",
    "                    y = sum(x)\n",
    "                    z.append(y)\n",
    "        return (max(z))"
   ]
  },
  {
   "cell_type": "markdown",
   "id": "f681897e",
   "metadata": {},
   "source": [
    "367. Valid Perfect Square"
   ]
  },
  {
   "cell_type": "code",
   "execution_count": 7,
   "id": "6b002427",
   "metadata": {},
   "outputs": [
    {
     "name": "stdout",
     "output_type": "stream",
     "text": [
      "True\n"
     ]
    }
   ],
   "source": [
    "#for running in jupyter notebook\n",
    "\n",
    "num = 16\n",
    "if num > 1 and num < (2**31-1):\n",
    "    x = num**(1/2) \n",
    "    if num == int(x)**2:\n",
    "        print(\"True\")\n",
    "    else:\n",
    "        print(\"False\")"
   ]
  },
  {
   "cell_type": "code",
   "execution_count": 10,
   "id": "c32b3f54",
   "metadata": {},
   "outputs": [],
   "source": [
    "# for running in leetcode\n",
    "\n",
    "class Solution(object):\n",
    "    def isPerfectSquare(self, num):\n",
    "        \"\"\"\n",
    "        :type num: int\n",
    "        :rtype: bool\n",
    "        \"\"\"\n",
    "        if num >= 1 and num < (2**31-1):\n",
    "            x = num**(0.5)\n",
    "            if int(x)**2 == num:\n",
    "                return True\n",
    "            return False"
   ]
  },
  {
   "cell_type": "markdown",
   "id": "bc18e524",
   "metadata": {},
   "source": [
    "1470. Shuffle the Array "
   ]
  },
  {
   "cell_type": "code",
   "execution_count": 8,
   "id": "4cb2e68e",
   "metadata": {},
   "outputs": [
    {
     "name": "stdout",
     "output_type": "stream",
     "text": [
      "[2, 3]\n",
      "[2, 3, 5, 4]\n",
      "[2, 3, 5, 4, 1, 7]\n"
     ]
    }
   ],
   "source": [
    "#for running in jupyter notebook\n",
    "\n",
    "nums = [2,5,1,3,4,7]\n",
    "n = 3\n",
    "x = nums[:n]\n",
    "y = nums[n:]\n",
    "new_nums = list()\n",
    "        \n",
    "for x,y in zip(x,y):\n",
    "    new_nums.extend((x,y))\n",
    "    print(new_nums)"
   ]
  },
  {
   "cell_type": "code",
   "execution_count": 9,
   "id": "5d19c38a",
   "metadata": {},
   "outputs": [],
   "source": [
    "# for running in leetcode\n",
    "\n",
    "class Solution(object):\n",
    "    def shuffle(self, nums, n):\n",
    "        \"\"\"\n",
    "        :type nums: List[int]\n",
    "        :type n: int\n",
    "        :rtype: List[int]\n",
    "        \"\"\"\n",
    "        x = nums[:n]\n",
    "        y = nums[n:]\n",
    "        new_nums = list()\n",
    "        \n",
    "        for x,y in zip(x,y):\n",
    "            new_nums.extend((x,y))\n",
    "        return new_nums"
   ]
  }
 ],
 "metadata": {
  "kernelspec": {
   "display_name": "Python 3",
   "language": "python",
   "name": "python3"
  },
  "language_info": {
   "codemirror_mode": {
    "name": "ipython",
    "version": 3
   },
   "file_extension": ".py",
   "mimetype": "text/x-python",
   "name": "python",
   "nbconvert_exporter": "python",
   "pygments_lexer": "ipython3",
   "version": "3.8.8"
  }
 },
 "nbformat": 4,
 "nbformat_minor": 5
}
